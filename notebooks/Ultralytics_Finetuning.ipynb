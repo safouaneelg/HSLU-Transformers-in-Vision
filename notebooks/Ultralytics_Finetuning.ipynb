{
  "cells": [
    {
      "cell_type": "markdown",
      "id": "finetune_intro",
      "metadata": {
        "id": "finetune_intro"
      },
      "source": [
        "[![Open in Colab](https://colab.research.google.com/assets/colab-badge.svg)](https://colab.research.google.com/drive/1Jydn9vGCp9zCW3laYFYeUZOnK1h7kR6o)\n",
        "\n",
        "Author:\n",
        "- **Safouane El Ghazouali**,\n",
        "- Ph.D. in AI,\n",
        "- Senior data scientist and researcher at TOELT LLC,\n",
        "- Lecturer at HSLU\n",
        "\n",
        "# -----  -----  -----  -----  -----  -----  -----  -----\n",
        "\n",
        "# 🛠️ Finetuning YOLOv10 on a Custom Dataset\n",
        "\n",
        "Welcome to this hands-on notebook on finetuning YOLOv10 using the Ultralytics library. We'll use a custom dataset from Kaggle in YOLO format to adapt the model for specific object detection tasks.\n",
        "\n",
        "![YOLO Finetuning](https://so-development.org/wp-content/uploads/2025/02/ultralytics-yolo-1024x538.jpg)\n",
        "\n",
        "### Why Finetune?\n",
        "- **Domain Adaptation**: Tailor pre-trained models to your specific data.\n",
        "- **Improved Accuracy**: Enhance performance on custom objects/classes.\n",
        "- **Efficiency**: Leverage transfer learning to reduce training time and resources.\n",
        "\n",
        "### What You'll Learn\n",
        "- Downloading and preparing a Kaggle dataset in YOLO format.\n",
        "- Finetuning YOLOv10 on the custom dataset.\n",
        "- Evaluating the finetuned model.\n",
        "- Exploring the output dictionary of results.\n",
        "\n",
        "# 🧰 Environment Setup\n",
        "\n",
        "Install required libraries, including Ultralytics and Kaggle for dataset download."
      ]
    },
    {
      "cell_type": "code",
      "execution_count": null,
      "id": "install_deps",
      "metadata": {
        "id": "install_deps"
      },
      "outputs": [],
      "source": [
        "!pip install ultralytics kaggle matplotlib opencv-python"
      ]
    },
    {
      "cell_type": "markdown",
      "id": "kaggle_setup",
      "metadata": {
        "id": "kaggle_setup"
      },
      "source": [
        "### Set Up Kaggle API\n",
        "\n",
        "To download the dataset, you'll need a Kaggle API key. Follow these steps:\n",
        "1. Go to Kaggle > Account > Create New API Token to download `kaggle.json`.\n",
        "2. Upload `kaggle.json` in the next cell."
      ]
    },
    {
      "cell_type": "code",
      "execution_count": null,
      "id": "upload_kaggle",
      "metadata": {
        "id": "upload_kaggle"
      },
      "outputs": [],
      "source": [
        "from google.colab import files\n",
        "files.upload()  # Upload kaggle.json\n",
        "\n",
        "!mkdir -p ~/.kaggle\n",
        "!cp kaggle.json ~/.kaggle/\n",
        "!chmod 600 ~/.kaggle/kaggle.json\n",
        "print('Kaggle API set up successfully!')"
      ]
    },
    {
      "cell_type": "markdown",
      "id": "import_libs",
      "metadata": {
        "id": "import_libs"
      },
      "source": [
        "### Import Libraries"
      ]
    },
    {
      "cell_type": "code",
      "execution_count": null,
      "id": "imports",
      "metadata": {
        "id": "imports"
      },
      "outputs": [],
      "source": [
        "from ultralytics import YOLO\n",
        "import cv2\n",
        "import matplotlib.pyplot as plt\n",
        "import numpy as np\n",
        "import os\n",
        "print(\"Libraries imported successfully!\")"
      ]
    },
    {
      "cell_type": "markdown",
      "id": "download_dataset",
      "metadata": {
        "id": "download_dataset"
      },
      "source": [
        "# 📂 Downloading the Custom Dataset\n",
        "\n",
        "We'll use the 'Object Detection - Wildlife Dataset - YOLO Format' from Kaggle, which contains 1500 images across 4 classes (buffalo, elephant, rhino, zebra) in YOLO format."
      ]
    },
    {
      "cell_type": "code",
      "execution_count": null,
      "id": "download_kaggle_dataset",
      "metadata": {
        "id": "download_kaggle_dataset"
      },
      "outputs": [],
      "source": [
        "!kaggle datasets download -d ankanghosh651/object-detection-wildlife-dataset-yolo-format\n",
        "!unzip -q object-detection-wildlife-dataset-yolo-format.zip\n",
        "print('Dataset downloaded and unzipped!')\n",
        "\n",
        "# Explanation\n",
        "# - The dataset includes train/val/test splits with images and YOLO-format labels (.txt files).\n",
        "# - A data.yaml file should be present or created to define paths and classes."
      ]
    },
    {
      "cell_type": "markdown",
      "id": "prepare_yaml",
      "metadata": {
        "id": "prepare_yaml"
      },
      "source": [
        "### Prepare data.yaml\n",
        "\n",
        "If data.yaml is not included, create it. Adjust paths as needed."
      ]
    },
    {
      "cell_type": "code",
      "execution_count": null,
      "id": "create_yaml",
      "metadata": {
        "id": "create_yaml"
      },
      "outputs": [],
      "source": [
        "yaml_content = \"\"\"\n",
        "path: ./final_data  # Root path\n",
        "train: train/images\n",
        "val: valid/images\n",
        "test: test/images\n",
        "\n",
        "nc: 4  # Number of classes\n",
        "names: ['buffalo', 'elephant', 'rhino', 'zebra']  # Class names\n",
        "\"\"\"\n",
        "\n",
        "with open('data.yaml', 'w') as f:\n",
        "    f.write(yaml_content)\n",
        "print('data.yaml created!')"
      ]
    },
    {
      "cell_type": "code",
      "source": [
        "import cv2\n",
        "import os\n",
        "import matplotlib.pyplot as plt\n",
        "\n",
        "# Paths\n",
        "images_dir = \"./final_data/train/images\"\n",
        "labels_dir = \"./final_data/train/labels\"\n",
        "\n",
        "# Get a sample of images\n",
        "image_files = os.listdir(images_dir)[:5]  # first 5 images\n",
        "\n",
        "# Class names (same as in data.yaml)\n",
        "class_names = ['buffalo', 'elephant', 'rhino', 'zebra']\n",
        "\n",
        "# Assign one fixed BGR color per class\n",
        "class_colors = {\n",
        "    0: (255, 0, 0),   # buffalo → Blue\n",
        "    1: (0, 255, 0),   # elephant → Green\n",
        "    2: (0, 0, 255),   # rhino → Red\n",
        "    3: (255, 255, 0)  # zebra → Cyan\n",
        "}\n",
        "\n",
        "def plot_image_with_boxes(image_path, label_path):\n",
        "    # Read image\n",
        "    img = cv2.imread(image_path)\n",
        "    h, w, _ = img.shape\n",
        "\n",
        "    # Read labels (YOLO format: class x_center y_center width height)\n",
        "    if os.path.exists(label_path):\n",
        "        with open(label_path, \"r\") as f:\n",
        "            for line in f.readlines():\n",
        "                cls, x, y, bw, bh = map(float, line.strip().split())\n",
        "                cls = int(cls)\n",
        "\n",
        "                # Convert YOLO format (relative) to pixel coordinates\n",
        "                x1 = int((x - bw/2) * w)\n",
        "                y1 = int((y - bh/2) * h)\n",
        "                x2 = int((x + bw/2) * w)\n",
        "                y2 = int((y + bh/2) * h)\n",
        "\n",
        "                # Get class-specific color\n",
        "                color = class_colors.get(cls, (255, 255, 255))\n",
        "\n",
        "                # Draw rectangle & class label\n",
        "                cv2.rectangle(img, (x1, y1), (x2, y2), color, 2)\n",
        "                cv2.putText(img, class_names[cls], (x1, y1 - 5),\n",
        "                            cv2.FONT_HERSHEY_SIMPLEX, 0.7, color, 2)\n",
        "\n",
        "    # Convert BGR → RGB for matplotlib\n",
        "    img = cv2.cvtColor(img, cv2.COLOR_BGR2RGB)\n",
        "    plt.imshow(img)\n",
        "    plt.axis(\"off\")\n",
        "    plt.show()\n",
        "\n",
        "# Show a few images\n",
        "for file in image_files:\n",
        "    img_path = os.path.join(images_dir, file)\n",
        "    label_path = os.path.join(labels_dir, file.rsplit(\".\", 1)[0] + \".txt\")  # match extensions\n",
        "    plot_image_with_boxes(img_path, label_path)\n"
      ],
      "metadata": {
        "id": "czU798RLN0b_"
      },
      "id": "czU798RLN0b_",
      "execution_count": null,
      "outputs": []
    },
    {
      "cell_type": "markdown",
      "id": "load_model",
      "metadata": {
        "id": "load_model"
      },
      "source": [
        "# 📦 Loading the Model for Finetuning\n",
        "\n",
        "Load a pre-trained YOLOv10 nano model."
      ]
    },
    {
      "cell_type": "code",
      "execution_count": null,
      "id": "load_yolo10",
      "metadata": {
        "id": "load_yolo10"
      },
      "outputs": [],
      "source": [
        "model = YOLO('yolov10n.pt')\n",
        "print('YOLOv10 model loaded!')"
      ]
    },
    {
      "cell_type": "markdown",
      "id": "finetune_section",
      "metadata": {
        "id": "finetune_section"
      },
      "source": [
        "# 🏋️ Finetuning the Model\n",
        "\n",
        "Finetune on the custom dataset with specified parameters."
      ]
    },
    {
      "cell_type": "code",
      "execution_count": null,
      "id": "train_model",
      "metadata": {
        "id": "train_model"
      },
      "outputs": [],
      "source": [
        "import torch\n",
        "device = 'cuda' if torch.cuda.is_available() else 'cpu'\n",
        "\n",
        "results = model.train(\n",
        "    data='./data.yaml',\n",
        "    epochs=10,  # Small for demo; increase for better results\n",
        "    imgsz=640,\n",
        "    batch=8,\n",
        "    name='finetuned_wildlife',\n",
        "    device=device  # Use 'cuda' if GPU available\n",
        ")\n",
        "\n",
        "# Explanation\n",
        "# - data: Path to YAML defining dataset structure.\n",
        "# - epochs: Training iterations.\n",
        "# - Results are saved in 'runs/detect/finetuned_wildlife'."
      ]
    },
    {
      "cell_type": "markdown",
      "id": "evaluate_model",
      "metadata": {
        "id": "evaluate_model"
      },
      "source": [
        "# 📊 Evaluating the Finetuned Model\n",
        "\n",
        "Validate on the validation set."
      ]
    },
    {
      "cell_type": "code",
      "execution_count": null,
      "id": "val_model",
      "metadata": {
        "id": "val_model"
      },
      "outputs": [],
      "source": [
        "from PIL import Image\n",
        "\n",
        "val_results = model.val()\n",
        "print(val_results)\n",
        "\n",
        "# Visualize metrics if images are generated\n",
        "if os.path.exists('runs/detect/finetuned_wildlife/confusion_matrix.png'):\n",
        "    img = Image.open('runs/detect/finetuned_wildlife/confusion_matrix.png')\n",
        "    plt.figure(figsize=(10, 10))\n",
        "    plt.imshow(img)\n",
        "    plt.axis('off')\n",
        "    plt.show()"
      ]
    },
    {
      "cell_type": "markdown",
      "id": "inference_finetuned",
      "metadata": {
        "id": "inference_finetuned"
      },
      "source": [
        "# 🔍 Inference with Finetuned Model\n",
        "\n",
        "Test on a sample test image and explore the output."
      ]
    },
    {
      "cell_type": "code",
      "execution_count": null,
      "id": "inference_test",
      "metadata": {
        "id": "inference_test"
      },
      "outputs": [],
      "source": [
        "# Assume a test image path; adjust as needed\n",
        "test_img_path = 'final_data/test/images/0557.jpg'\n",
        "results_test = model(test_img_path)\n",
        "\n",
        "# Visualize\n",
        "annotated = results_test[0].plot()\n",
        "plt.imshow(cv2.cvtColor(annotated, cv2.COLOR_BGR2RGB))\n",
        "plt.title('Finetuned YOLOv10 Detections')\n",
        "plt.axis('off')\n",
        "plt.show()"
      ]
    },
    {
      "cell_type": "markdown",
      "id": "analyze_output",
      "metadata": {
        "id": "analyze_output"
      },
      "source": [
        "## 📊 Analyzing Output Dictionary\n",
        "\n",
        "Explore the results structure, including bounding boxes and confidences."
      ]
    },
    {
      "cell_type": "code",
      "execution_count": null,
      "id": "output_analysis",
      "metadata": {
        "id": "output_analysis"
      },
      "outputs": [],
      "source": [
        "result = results_test[0]\n",
        "\n",
        "boxes = result.boxes.xyxy\n",
        "confidences = result.boxes.conf\n",
        "classes = result.boxes.cls\n",
        "\n",
        "print(\"\\nBounding Boxes (xyxy):\\n\", boxes)\n",
        "print(\"Confidences:\\n\", confidences)\n",
        "print(\"Classes:\\n\", classes)\n",
        "\n",
        "class_names = result.names\n",
        "detected = [class_names[int(cls)] for cls in classes]\n",
        "print(\"Detected Classes:\\n\", detected)"
      ]
    },
    {
      "cell_type": "markdown",
      "id": "interpret_results",
      "metadata": {
        "id": "interpret_results"
      },
      "source": [
        "# 🧠 Interpreting Results\n",
        "\n",
        "Review mAP, precision, and recall from validation. Compare bounding boxes and confidences to pre-trained outputs."
      ]
    },
    {
      "cell_type": "markdown",
      "id": "student_task",
      "metadata": {
        "id": "student_task"
      },
      "source": [
        "# 💡 Student Task (**HOME**)\n",
        "\n",
        "1. Increase epochs and retrain for better accuracy.\n",
        "2. Try a different model size (e.g., 'yolov11s.pt').\n",
        "3. Use another Kaggle dataset and adapt the YAML.\n",
        "4. Explore additional training args (check out https://docs.ultralytics.com/modes/train/#resuming-interrupted-trainings)."
      ]
    }
  ],
  "metadata": {
    "kernelspec": {
      "display_name": "Python 3",
      "name": "python3"
    },
    "language_info": {
      "codemirror_mode": {
        "name": "ipython",
        "version": 3
      },
      "file_extension": ".py",
      "mimetype": "text/x-python",
      "name": "python",
      "nbconvert_exporter": "python",
      "pygments_lexer": "ipython3",
      "version": "3.10.18"
    },
    "colab": {
      "provenance": [],
      "gpuType": "T4"
    },
    "accelerator": "GPU"
  },
  "nbformat": 4,
  "nbformat_minor": 5
}